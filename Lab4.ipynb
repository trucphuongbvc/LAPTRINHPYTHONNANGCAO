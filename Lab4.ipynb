{
  "nbformat": 4,
  "nbformat_minor": 0,
  "metadata": {
    "colab": {
      "name": "Lab4.ipynb",
      "provenance": [],
      "authorship_tag": "ABX9TyNzz0S3f+hV1jHZW02pn6YB",
      "include_colab_link": true
    },
    "kernelspec": {
      "name": "python3",
      "display_name": "Python 3"
    },
    "language_info": {
      "name": "python"
    }
  },
  "cells": [
    {
      "cell_type": "markdown",
      "metadata": {
        "id": "view-in-github",
        "colab_type": "text"
      },
      "source": [
        "<a href=\"https://colab.research.google.com/github/trucphuongbvc/LAPTRINHPYTHONNANGCAO/blob/main/Lab4.ipynb\" target=\"_parent\"><img src=\"https://colab.research.google.com/assets/colab-badge.svg\" alt=\"Open In Colab\"/></a>"
      ]
    },
    {
      "cell_type": "code",
      "metadata": {
        "id": "JbdpFfQNDsDB"
      },
      "source": [
        "def find_dups(L):\n",
        "  elem_set = set()\n",
        "  dups_set = set()\n",
        "  for entry in L:\n",
        "    len_initial = len(elem_set)\n",
        "    elem_set.add(entry)\n",
        "    len_after = len(elem_set)\n",
        "    if len_initial == len_after:\n",
        "      dups_set.add(entry)\n",
        "  return(dups_set)"
      ],
      "execution_count": 12,
      "outputs": []
    },
    {
      "cell_type": "code",
      "metadata": {
        "colab": {
          "base_uri": "https://localhost:8080/"
        },
        "id": "buCRVPI8D141",
        "outputId": "70c23e51-f198-4597-a2ce-71336e23f6ad"
      },
      "source": [
        "find_dups([4,5,6,1,8,2,4,89,1,6,4,5,1,8,2])"
      ],
      "execution_count": 13,
      "outputs": [
        {
          "output_type": "execute_result",
          "data": {
            "text/plain": [
              "{1, 2, 4, 5, 6, 8}"
            ]
          },
          "metadata": {},
          "execution_count": 13
        }
      ]
    },
    {
      "cell_type": "code",
      "metadata": {
        "id": "UCVg46p7D3FB"
      },
      "source": [
        "def mating_pairs(males, females):\n",
        " \"\"\" (set, set) -> set of tuple\n",
        " Return a set of tuples where each tuple contains a male from males \n",
        "and a\n",
        " female from females.\n",
        " >>> mating_pairs({'Anne', 'Beatrice', 'Cari'}, {'Ali', 'Bob', \n",
        "'Chen'})\n",
        " {('Cari', 'Chen'), ('Beatrice', 'Bob'), ('Anne', 'Ali')}\n",
        " \"\"\"\n",
        " pairs = set()\n",
        " num_gerbils = len(males)\n",
        " for i in range(num_gerbils):\n",
        "  male = males.pop()\n",
        "  female = females.pop()\n",
        "  pairs.add((male, female))\n",
        " return pairs"
      ],
      "execution_count": 15,
      "outputs": []
    },
    {
      "cell_type": "code",
      "metadata": {
        "colab": {
          "base_uri": "https://localhost:8080/"
        },
        "id": "RCLuWHy4D92g",
        "outputId": "00e85182-3c5b-4401-ad78-5b89ceb98060"
      },
      "source": [
        "mating_pairs({'Anne', 'Beatrice', 'Cari'}, {'Ali', 'Bob', 'Chen'})"
      ],
      "execution_count": 16,
      "outputs": [
        {
          "output_type": "execute_result",
          "data": {
            "text/plain": [
              "{('Anne', 'Chen'), ('Beatrice', 'Bob'), ('Cari', 'Ali')}"
            ]
          },
          "metadata": {},
          "execution_count": 16
        }
      ]
    },
    {
      "cell_type": "code",
      "metadata": {
        "id": "1Ap-g9RXEB27"
      },
      "source": [
        "males = {'Anna','Jane','Sophia'}\n",
        "females = {'Bob','David','Tom'}\n",
        "def mating_couple(males,females):\n",
        "  couple = set()\n",
        "  for i in range(len(males)):\n",
        "    male = males.pop()\n",
        "    female = females.pop()\n",
        "    couple.add((male, female))\n",
        "  return couple"
      ],
      "execution_count": 17,
      "outputs": []
    },
    {
      "cell_type": "code",
      "metadata": {
        "colab": {
          "base_uri": "https://localhost:8080/"
        },
        "id": "I2hk3OrREDAp",
        "outputId": "5e6937ff-edfa-4fe1-83d5-c117d4d95651"
      },
      "source": [
        "mating_couple(males,females)"
      ],
      "execution_count": 18,
      "outputs": [
        {
          "output_type": "execute_result",
          "data": {
            "text/plain": [
              "{('Anna', 'Tom'), ('Jane', 'Bob'), ('Sophia', 'David')}"
            ]
          },
          "metadata": {},
          "execution_count": 18
        }
      ]
    },
    {
      "cell_type": "code",
      "metadata": {
        "id": "lLET9jnGEImV"
      },
      "source": [
        "def count_values(dic):\n",
        "  tontai = []\n",
        "  for key, value in dic.items():\n",
        "    tontai.append(value)\n",
        "  for key, value in dic.items():\n",
        "    count = 0\n",
        "    for i in tontai:\n",
        "      if i == value:\n",
        "        count = count + 1\n",
        "    if count == 1:\n",
        "      print(value)"
      ],
      "execution_count": 19,
      "outputs": []
    },
    {
      "cell_type": "code",
      "metadata": {
        "colab": {
          "base_uri": "https://localhost:8080/"
        },
        "id": "7g0G5CpsELqH",
        "outputId": "5ddedca7-fee4-4f01-d440-c3ad23b47e4f"
      },
      "source": [
        "dic = {'red': 1, 'green': 1, 'blue': 2}\n",
        "count_values(dic)"
      ],
      "execution_count": 20,
      "outputs": [
        {
          "output_type": "stream",
          "name": "stdout",
          "text": [
            "2\n"
          ]
        }
      ]
    },
    {
      "cell_type": "code",
      "metadata": {
        "id": "rGgX_9PTES72"
      },
      "source": [
        "def least(dic):\n",
        "  min = 999999999999999999999999999\n",
        "  for key, value in dic.items():\n",
        "    if value < min:\n",
        "      min = value\n",
        "      str1 = key\n",
        "    else:\n",
        "      continue\n",
        "  for key, value in dic.items():\n",
        "    if key == str1:\n",
        "      print(key)"
      ],
      "execution_count": 21,
      "outputs": []
    },
    {
      "cell_type": "code",
      "metadata": {
        "id": "IqDXeDX7ElCg"
      },
      "source": [
        "def count(dic):\n",
        "  count = []\n",
        "  for key, value in dic.items():\n",
        "    if value in count:\n",
        "      print(value)\n",
        "    else:\n",
        "      count.append(value)"
      ],
      "execution_count": 24,
      "outputs": []
    },
    {
      "cell_type": "code",
      "metadata": {
        "colab": {
          "base_uri": "https://localhost:8080/"
        },
        "id": "We7jp56iEmF1",
        "outputId": "6c17ff7e-25b9-412e-d2e8-ec135cd144ab"
      },
      "source": [
        "dic = {'red': 1, 'green': 1, 'blue': 2}\n",
        "count(dic)"
      ],
      "execution_count": 25,
      "outputs": [
        {
          "output_type": "stream",
          "name": "stdout",
          "text": [
            "1\n"
          ]
        }
      ]
    },
    {
      "cell_type": "code",
      "metadata": {
        "id": "rBbLbTAiEpGf"
      },
      "source": [
        "def is_balanced(dic):\n",
        "  balanced=0\n",
        "  for key, value in dic.items():\n",
        "    balanced += value\n",
        "  if balanced == 1:\n",
        "    return True\n",
        "  else:\n",
        "    return False"
      ],
      "execution_count": 26,
      "outputs": []
    },
    {
      "cell_type": "code",
      "metadata": {
        "colab": {
          "base_uri": "https://localhost:8080/"
        },
        "id": "9eNOhMSbEscN",
        "outputId": "0f5f6275-5508-4bee-c178-e01be69e09a3"
      },
      "source": [
        "color = {'R':0.3,'G':0.3,'B':0.2}\n",
        "is_balanced(color)"
      ],
      "execution_count": 27,
      "outputs": [
        {
          "output_type": "execute_result",
          "data": {
            "text/plain": [
              "False"
            ]
          },
          "metadata": {},
          "execution_count": 27
        }
      ]
    },
    {
      "cell_type": "code",
      "metadata": {
        "id": "xUnuhsUVE6Rs"
      },
      "source": [
        "def dict_intersect(dic1,dic2):\n",
        "  dic3 = {}\n",
        "  for key, value in dic1.items():\n",
        "    for key1, value1 in dic2.items():\n",
        "      if ((key == key1) and (value ==value1)):\n",
        "        dic3[key] = value\n",
        "  return dic3"
      ],
      "execution_count": 28,
      "outputs": []
    },
    {
      "cell_type": "code",
      "metadata": {
        "colab": {
          "base_uri": "https://localhost:8080/"
        },
        "id": "rAfhQrWFE9Qy",
        "outputId": "f9d8004c-8087-4d76-b259-2c93994ff9d0"
      },
      "source": [
        "dic1 = {'red': 1, 'green': 1, 'blue': 2}\n",
        "dic2 = {'red': 1, 'green': 5, 'blue': 2, 'black': 4}\n",
        "dict_intersect(dic1,dic2)"
      ],
      "execution_count": 29,
      "outputs": [
        {
          "output_type": "execute_result",
          "data": {
            "text/plain": [
              "{'blue': 2, 'red': 1}"
            ]
          },
          "metadata": {},
          "execution_count": 29
        }
      ]
    },
    {
      "cell_type": "code",
      "metadata": {
        "colab": {
          "base_uri": "https://localhost:8080/",
          "height": 35
        },
        "id": "_v-nFwzlFjoc",
        "outputId": "7dab684a-344f-4b9c-dc8b-8a8a94e5e24a"
      },
      "source": [
        "def least_likely(particle_to_probability):\n",
        "  smallest = 1\n",
        "  name = ''\n",
        "  for particle in particle_to_probability:\n",
        "    probability = particle_to_probability[particle]\n",
        "    if probability < smallest:\n",
        "      smallest = probability\n",
        "      name = particle\n",
        "  return name\n",
        "least_likely({'neutron': 0.55, 'proton': 0.21, 'meson': 0.03, 'muon': 0.07, 'neutrino': 0.14})"
      ],
      "execution_count": 31,
      "outputs": [
        {
          "output_type": "execute_result",
          "data": {
            "application/vnd.google.colaboratory.intrinsic+json": {
              "type": "string"
            },
            "text/plain": [
              "'meson'"
            ]
          },
          "metadata": {},
          "execution_count": 31
        }
      ]
    },
    {
      "cell_type": "code",
      "metadata": {
        "colab": {
          "base_uri": "https://localhost:8080/"
        },
        "id": "oKcJzLYcGaju",
        "outputId": "ab0a4db4-8c2a-4099-b893-66b61e80ea98"
      },
      "source": [
        "def dict_interest(dict1, dict2):\n",
        "  intersection = {}\n",
        "  for (key, value) in dict1.items():\n",
        "    if key in dict2 and value == dict2[key]:\n",
        "      intersection[key] = value\n",
        "  return intersection\n",
        "dict_interest({'a': 1, 'b': 2, 'c': 3}, {'a': 1, 'd': 2, 'b': 2})"
      ],
      "execution_count": 32,
      "outputs": [
        {
          "output_type": "execute_result",
          "data": {
            "text/plain": [
              "{'a': 1, 'b': 2}"
            ]
          },
          "metadata": {},
          "execution_count": 32
        }
      ]
    },
    {
      "cell_type": "code",
      "metadata": {
        "colab": {
          "base_uri": "https://localhost:8080/"
        },
        "id": "PBFpXvIFGcW2",
        "outputId": "fb22c010-03e3-4410-f010-f12435ea2ee4"
      },
      "source": [
        "def db_headings(dict_of_dict):\n",
        "  inner_keys = set()\n",
        "  for key in dict_of_dict:\n",
        "    for inner_key in dict_of_dict[key]:\n",
        "      inner_keys.add(inner_key)\n",
        "  return inner_keys\n",
        "db_headings({'A': {1: 'a', 2: 'b'}, 'B': {2: 'c', 3: 'd'}})"
      ],
      "execution_count": 33,
      "outputs": [
        {
          "output_type": "execute_result",
          "data": {
            "text/plain": [
              "{1, 2, 3}"
            ]
          },
          "metadata": {},
          "execution_count": 33
        }
      ]
    }
  ]
}