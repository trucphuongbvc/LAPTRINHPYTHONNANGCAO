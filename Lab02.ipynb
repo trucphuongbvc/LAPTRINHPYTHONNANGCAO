{
  "nbformat": 4,
  "nbformat_minor": 0,
  "metadata": {
    "colab": {
      "name": "Lab02.ipynb",
      "provenance": [],
      "authorship_tag": "ABX9TyPsUhHmUPYsgGveeHHTZtBl",
      "include_colab_link": true
    },
    "kernelspec": {
      "name": "python3",
      "display_name": "Python 3"
    },
    "language_info": {
      "name": "python"
    }
  },
  "cells": [
    {
      "cell_type": "markdown",
      "metadata": {
        "id": "view-in-github",
        "colab_type": "text"
      },
      "source": [
        "<a href=\"https://colab.research.google.com/github/trucphuongbvc/LAPTRINHPYTHONNANGCAO/blob/main/Lab02.ipynb\" target=\"_parent\"><img src=\"https://colab.research.google.com/assets/colab-badge.svg\" alt=\"Open In Colab\"/></a>"
      ]
    },
    {
      "cell_type": "code",
      "metadata": {
        "colab": {
          "base_uri": "https://localhost:8080/",
          "height": 35
        },
        "id": "HhJEWcuGVbrk",
        "outputId": "e0f1f6d5-3a88-4663-b1fc-8178fc25737b"
      },
      "source": [
        "kingdoms = ['Bacteria', 'Protozoa', 'Chromista', 'Plantae', 'Fungi', 'Animalia']\n",
        "kingdoms[0]"
      ],
      "execution_count": null,
      "outputs": [
        {
          "output_type": "execute_result",
          "data": {
            "application/vnd.google.colaboratory.intrinsic+json": {
              "type": "string"
            },
            "text/plain": [
              "'Bacteria'"
            ]
          },
          "metadata": {},
          "execution_count": 1
        }
      ]
    },
    {
      "cell_type": "code",
      "metadata": {
        "colab": {
          "base_uri": "https://localhost:8080/"
        },
        "id": "-FL_Y9uLXyNR",
        "outputId": "b60f3a10-13cc-421c-d2f6-e65f225b31c9"
      },
      "source": [
        "kingdoms[1:0]"
      ],
      "execution_count": null,
      "outputs": [
        {
          "output_type": "execute_result",
          "data": {
            "text/plain": [
              "[]"
            ]
          },
          "metadata": {},
          "execution_count": 2
        }
      ]
    },
    {
      "cell_type": "code",
      "metadata": {
        "colab": {
          "base_uri": "https://localhost:8080/"
        },
        "id": "1T_IX0oGYTiB",
        "outputId": "4e223091-b79e-4749-cb22-c927ec48db55"
      },
      "source": [
        "kingdoms[:3]"
      ],
      "execution_count": null,
      "outputs": [
        {
          "output_type": "execute_result",
          "data": {
            "text/plain": [
              "['Bacteria', 'Protozoa', 'Chromista']"
            ]
          },
          "metadata": {},
          "execution_count": 3
        }
      ]
    },
    {
      "cell_type": "code",
      "metadata": {
        "colab": {
          "base_uri": "https://localhost:8080/"
        },
        "id": "ETcLgsQfYm8R",
        "outputId": "ad908dde-7be2-41e5-dfdd-c7723a1779ea"
      },
      "source": [
        "kingdoms[2:5]"
      ],
      "execution_count": null,
      "outputs": [
        {
          "output_type": "execute_result",
          "data": {
            "text/plain": [
              "['Chromista', 'Plantae', 'Fungi']"
            ]
          },
          "metadata": {},
          "execution_count": 4
        }
      ]
    },
    {
      "cell_type": "code",
      "metadata": {
        "colab": {
          "base_uri": "https://localhost:8080/"
        },
        "id": "3FliVEWfY2z5",
        "outputId": "aa5981c9-d5dc-4a90-88d7-fe9cfc6f8d1e"
      },
      "source": [
        "kingdoms[4:]"
      ],
      "execution_count": null,
      "outputs": [
        {
          "output_type": "execute_result",
          "data": {
            "text/plain": [
              "['Fungi', 'Animalia']"
            ]
          },
          "metadata": {},
          "execution_count": 5
        }
      ]
    },
    {
      "cell_type": "code",
      "metadata": {
        "colab": {
          "base_uri": "https://localhost:8080/",
          "height": 35
        },
        "id": "G1IycdbYZG5M",
        "outputId": "b0a0107d-b7a4-4d56-8a52-7e2a1dbe0e56"
      },
      "source": [
        "kingdoms[5]"
      ],
      "execution_count": null,
      "outputs": [
        {
          "output_type": "execute_result",
          "data": {
            "application/vnd.google.colaboratory.intrinsic+json": {
              "type": "string"
            },
            "text/plain": [
              "'Animalia'"
            ]
          },
          "metadata": {},
          "execution_count": 6
        }
      ]
    },
    {
      "cell_type": "code",
      "metadata": {
        "colab": {
          "base_uri": "https://localhost:8080/",
          "height": 35
        },
        "id": "NVGQAsWQZPov",
        "outputId": "1cc760c9-d691-410e-e8d4-eb1ddc02cd7e"
      },
      "source": [
        "kingdoms = ['Bacteria', 'Protozoa', 'Chromista', 'Plantae', 'Fungi', 'Animalia']\n",
        "kingdoms[-6]"
      ],
      "execution_count": null,
      "outputs": [
        {
          "output_type": "execute_result",
          "data": {
            "application/vnd.google.colaboratory.intrinsic+json": {
              "type": "string"
            },
            "text/plain": [
              "'Bacteria'"
            ]
          },
          "metadata": {},
          "execution_count": 7
        }
      ]
    },
    {
      "cell_type": "code",
      "metadata": {
        "colab": {
          "base_uri": "https://localhost:8080/",
          "height": 35
        },
        "id": "Jzn_HOT1ZWkg",
        "outputId": "c073f40b-9dfa-4b3f-e128-5ee7c3c8e2ae"
      },
      "source": [
        "kingdoms[-1]"
      ],
      "execution_count": null,
      "outputs": [
        {
          "output_type": "execute_result",
          "data": {
            "application/vnd.google.colaboratory.intrinsic+json": {
              "type": "string"
            },
            "text/plain": [
              "'Animalia'"
            ]
          },
          "metadata": {},
          "execution_count": 8
        }
      ]
    },
    {
      "cell_type": "code",
      "metadata": {
        "colab": {
          "base_uri": "https://localhost:8080/"
        },
        "id": "khkLGwSKZtzp",
        "outputId": "dadba36a-871b-4966-f30b-1e841228e69c"
      },
      "source": [
        "kingdoms[-6:-3]"
      ],
      "execution_count": null,
      "outputs": [
        {
          "output_type": "execute_result",
          "data": {
            "text/plain": [
              "['Bacteria', 'Protozoa', 'Chromista']"
            ]
          },
          "metadata": {},
          "execution_count": 9
        }
      ]
    },
    {
      "cell_type": "code",
      "metadata": {
        "colab": {
          "base_uri": "https://localhost:8080/"
        },
        "id": "S1OgHUZwZ2kq",
        "outputId": "8a98c0bb-1a42-4a0f-f399-88669da34f87"
      },
      "source": [
        "kingdoms[-4:-1]"
      ],
      "execution_count": null,
      "outputs": [
        {
          "output_type": "execute_result",
          "data": {
            "text/plain": [
              "['Chromista', 'Plantae', 'Fungi']"
            ]
          },
          "metadata": {},
          "execution_count": 10
        }
      ]
    },
    {
      "cell_type": "code",
      "metadata": {
        "colab": {
          "base_uri": "https://localhost:8080/"
        },
        "id": "ILh5802YaQfM",
        "outputId": "9c79dc84-08de-4768-a38a-0275183e1ade"
      },
      "source": [
        "kingdoms[-2:]"
      ],
      "execution_count": null,
      "outputs": [
        {
          "output_type": "execute_result",
          "data": {
            "text/plain": [
              "['Fungi', 'Animalia']"
            ]
          },
          "metadata": {},
          "execution_count": 11
        }
      ]
    },
    {
      "cell_type": "code",
      "metadata": {
        "colab": {
          "base_uri": "https://localhost:8080/"
        },
        "id": "bejX4uCkaUjB",
        "outputId": "7014bead-f5e1-4115-9aeb-852aee3aeaa2"
      },
      "source": [
        "kingdoms[-1:-2]"
      ],
      "execution_count": null,
      "outputs": [
        {
          "output_type": "execute_result",
          "data": {
            "text/plain": [
              "[]"
            ]
          },
          "metadata": {},
          "execution_count": 12
        }
      ]
    },
    {
      "cell_type": "code",
      "metadata": {
        "colab": {
          "base_uri": "https://localhost:8080/"
        },
        "id": "H0C4GQ2qa7lC",
        "outputId": "c47cec9a-9579-4613-c12c-9d76cc222a61"
      },
      "source": [
        "appointments = ['9:00', '10:30', '14:00', '15:00', '15:30']\n",
        "appointments.append('16:30')\n",
        "appointments"
      ],
      "execution_count": null,
      "outputs": [
        {
          "output_type": "execute_result",
          "data": {
            "text/plain": [
              "['9:00', '10:30', '14:00', '15:00', '15:30', '16:30']"
            ]
          },
          "metadata": {},
          "execution_count": 13
        }
      ]
    },
    {
      "cell_type": "code",
      "metadata": {
        "colab": {
          "base_uri": "https://localhost:8080/"
        },
        "id": "WseX_cPxa_iM",
        "outputId": "e36d14f3-bee4-4d12-da9c-7d0f4ed02fa3"
      },
      "source": [
        "appointments += ['16:30']\n",
        "appointments"
      ],
      "execution_count": null,
      "outputs": [
        {
          "output_type": "execute_result",
          "data": {
            "text/plain": [
              "['9:00', '10:30', '14:00', '15:00', '15:30', '16:30', '16:30']"
            ]
          },
          "metadata": {},
          "execution_count": 14
        }
      ]
    },
    {
      "cell_type": "code",
      "metadata": {
        "colab": {
          "base_uri": "https://localhost:8080/"
        },
        "id": "uGwW8ya1e_n8",
        "outputId": "c6d32818-e3d5-4def-dd00-620482255f56"
      },
      "source": [
        "ids = [4353, 2314, 2956, 3382, 9362, 3900]\n",
        "ids.remove(3382)\n",
        "ids"
      ],
      "execution_count": 1,
      "outputs": [
        {
          "output_type": "execute_result",
          "data": {
            "text/plain": [
              "[4353, 2314, 2956, 9362, 3900]"
            ]
          },
          "metadata": {},
          "execution_count": 1
        }
      ]
    },
    {
      "cell_type": "code",
      "metadata": {
        "colab": {
          "base_uri": "https://localhost:8080/"
        },
        "id": "_nmg4SWSfgG2",
        "outputId": "df840390-7064-485d-ded3-ca416b8adb2a"
      },
      "source": [
        "ids.index(9362)\n",
        "ids"
      ],
      "execution_count": 2,
      "outputs": [
        {
          "output_type": "execute_result",
          "data": {
            "text/plain": [
              "[4353, 2314, 2956, 9362, 3900]"
            ]
          },
          "metadata": {},
          "execution_count": 2
        }
      ]
    },
    {
      "cell_type": "code",
      "metadata": {
        "colab": {
          "base_uri": "https://localhost:8080/"
        },
        "id": "RkwlQ5hHfmtX",
        "outputId": "705c089c-98d9-40fc-ea0b-6576688e29cd"
      },
      "source": [
        "ids.insert(ids.index(9362) + 1, 4499)\n",
        "ids"
      ],
      "execution_count": 3,
      "outputs": [
        {
          "output_type": "execute_result",
          "data": {
            "text/plain": [
              "[4353, 2314, 2956, 9362, 4499, 3900]"
            ]
          },
          "metadata": {},
          "execution_count": 3
        }
      ]
    },
    {
      "cell_type": "code",
      "metadata": {
        "colab": {
          "base_uri": "https://localhost:8080/"
        },
        "id": "_mrjxPjifrkw",
        "outputId": "81195a8f-8b12-4c8b-8061-63b0d8fa682e"
      },
      "source": [
        "ids = ids + [5566, 1830] \n",
        "ids"
      ],
      "execution_count": 4,
      "outputs": [
        {
          "output_type": "execute_result",
          "data": {
            "text/plain": [
              "[4353, 2314, 2956, 9362, 4499, 3900, 5566, 1830]"
            ]
          },
          "metadata": {},
          "execution_count": 4
        }
      ]
    },
    {
      "cell_type": "code",
      "metadata": {
        "colab": {
          "base_uri": "https://localhost:8080/"
        },
        "id": "Oy8Wxmusfx1_",
        "outputId": "300b1ad2-f138-4197-c77a-0df25262ec26"
      },
      "source": [
        "ids.reverse\n",
        "ids"
      ],
      "execution_count": 5,
      "outputs": [
        {
          "output_type": "execute_result",
          "data": {
            "text/plain": [
              "[4353, 2314, 2956, 9362, 4499, 3900, 5566, 1830]"
            ]
          },
          "metadata": {},
          "execution_count": 5
        }
      ]
    },
    {
      "cell_type": "code",
      "metadata": {
        "colab": {
          "base_uri": "https://localhost:8080/"
        },
        "id": "qEGjDCZCfzl5",
        "outputId": "7d39aa87-99b7-44be-fa93-25a9791f17db"
      },
      "source": [
        "ids.sort\n",
        "ids"
      ],
      "execution_count": 6,
      "outputs": [
        {
          "output_type": "execute_result",
          "data": {
            "text/plain": [
              "[4353, 2314, 2956, 9362, 4499, 3900, 5566, 1830]"
            ]
          },
          "metadata": {},
          "execution_count": 6
        }
      ]
    },
    {
      "cell_type": "code",
      "metadata": {
        "colab": {
          "base_uri": "https://localhost:8080/"
        },
        "id": "HEY_6cARf247",
        "outputId": "8396445b-908e-4d24-a6ea-8bde2442cfc2"
      },
      "source": [
        "alkaline_earth_metals[5]"
      ],
      "execution_count": 10,
      "outputs": [
        {
          "output_type": "execute_result",
          "data": {
            "text/plain": [
              "88"
            ]
          },
          "metadata": {},
          "execution_count": 10
        }
      ]
    },
    {
      "cell_type": "code",
      "metadata": {
        "colab": {
          "base_uri": "https://localhost:8080/"
        },
        "id": "FgZMrFY1f7Tx",
        "outputId": "107b5365-5ff6-4d03-c34d-a881b5361ddb"
      },
      "source": [
        "len(alkaline_earth_metals)"
      ],
      "execution_count": 11,
      "outputs": [
        {
          "output_type": "execute_result",
          "data": {
            "text/plain": [
              "6"
            ]
          },
          "metadata": {},
          "execution_count": 11
        }
      ]
    },
    {
      "cell_type": "code",
      "metadata": {
        "colab": {
          "base_uri": "https://localhost:8080/"
        },
        "id": "FnxFn62ygI0x",
        "outputId": "84541b52-2f90-4e79-d529-1708987b50ef"
      },
      "source": [
        "max(alkaline_earth_metals)"
      ],
      "execution_count": 12,
      "outputs": [
        {
          "output_type": "execute_result",
          "data": {
            "text/plain": [
              "88"
            ]
          },
          "metadata": {},
          "execution_count": 12
        }
      ]
    },
    {
      "cell_type": "code",
      "metadata": {
        "id": "nmWq2feMgMQU"
      },
      "source": [
        "temps = [25.2, 16.8, 31.4, 23.9, 28, 22.5, 19.6]"
      ],
      "execution_count": 13,
      "outputs": []
    },
    {
      "cell_type": "code",
      "metadata": {
        "colab": {
          "base_uri": "https://localhost:8080/"
        },
        "id": "np1Q0A5vgRRY",
        "outputId": "a049d7bb-fd46-4a63-9a07-f1fc6d5dac3d"
      },
      "source": [
        "temps.sort()\n",
        "temps"
      ],
      "execution_count": 14,
      "outputs": [
        {
          "output_type": "execute_result",
          "data": {
            "text/plain": [
              "[16.8, 19.6, 22.5, 23.9, 25.2, 28, 31.4]"
            ]
          },
          "metadata": {},
          "execution_count": 14
        }
      ]
    },
    {
      "cell_type": "code",
      "metadata": {
        "colab": {
          "base_uri": "https://localhost:8080/"
        },
        "id": "6Xr5cdNZgXVM",
        "outputId": "d9b325b2-4c04-430e-968c-f1df742f6aa5"
      },
      "source": [
        "cool_temps = temps[0:2]\n",
        "cool_temps"
      ],
      "execution_count": 15,
      "outputs": [
        {
          "output_type": "execute_result",
          "data": {
            "text/plain": [
              "[16.8, 19.6]"
            ]
          },
          "metadata": {},
          "execution_count": 15
        }
      ]
    },
    {
      "cell_type": "code",
      "metadata": {
        "colab": {
          "base_uri": "https://localhost:8080/"
        },
        "id": "yizoSJXqgbnp",
        "outputId": "b6abdb9c-307f-4424-c234-d1d8d83338a7"
      },
      "source": [
        "warm_temps = temps[2:]\n",
        "warm_temps"
      ],
      "execution_count": 16,
      "outputs": [
        {
          "output_type": "execute_result",
          "data": {
            "text/plain": [
              "[22.5, 23.9, 25.2, 28, 31.4]"
            ]
          },
          "metadata": {},
          "execution_count": 16
        }
      ]
    },
    {
      "cell_type": "code",
      "metadata": {
        "colab": {
          "base_uri": "https://localhost:8080/"
        },
        "id": "V5dFkHjrge2H",
        "outputId": "976e399c-1303-4235-be1d-525e4768da19"
      },
      "source": [
        "temps_in_celsius = cool_temps + warm_temps\n",
        "temps_in_celsius"
      ],
      "execution_count": 17,
      "outputs": [
        {
          "output_type": "execute_result",
          "data": {
            "text/plain": [
              "[16.8, 19.6, 22.5, 23.9, 25.2, 28, 31.4]"
            ]
          },
          "metadata": {},
          "execution_count": 17
        }
      ]
    },
    {
      "cell_type": "code",
      "metadata": {
        "colab": {
          "base_uri": "https://localhost:8080/"
        },
        "id": "24pncQX4gihj",
        "outputId": "d2f02c38-afd5-413e-9c25-353d87ea8c99"
      },
      "source": [
        "def same_first_last(L: list) -> bool:\n",
        "    if(len(L) >= 2):\n",
        "      return L[0] == L[-1]\n",
        "same_first_last([3, 4, 2, 8, 3])"
      ],
      "execution_count": 18,
      "outputs": [
        {
          "output_type": "execute_result",
          "data": {
            "text/plain": [
              "True"
            ]
          },
          "metadata": {},
          "execution_count": 18
        }
      ]
    },
    {
      "cell_type": "code",
      "metadata": {
        "colab": {
          "base_uri": "https://localhost:8080/"
        },
        "id": "nilU2H2Vgn8k",
        "outputId": "b3c2823c-b700-4c73-a143-a4e679233636"
      },
      "source": [
        "same_first_last(['apple', 'banana', 'pear'])"
      ],
      "execution_count": 19,
      "outputs": [
        {
          "output_type": "execute_result",
          "data": {
            "text/plain": [
              "False"
            ]
          },
          "metadata": {},
          "execution_count": 19
        }
      ]
    },
    {
      "cell_type": "code",
      "metadata": {
        "colab": {
          "base_uri": "https://localhost:8080/"
        },
        "id": "gO55Gvs2gx8t",
        "outputId": "d950d25f-380d-4d8f-fc5d-946fa4a8c649"
      },
      "source": [
        "same_first_last([4.0, 4.5])"
      ],
      "execution_count": 20,
      "outputs": [
        {
          "output_type": "execute_result",
          "data": {
            "text/plain": [
              "False"
            ]
          },
          "metadata": {},
          "execution_count": 20
        }
      ]
    },
    {
      "cell_type": "code",
      "metadata": {
        "colab": {
          "base_uri": "https://localhost:8080/"
        },
        "id": "lsaFJ6s8g2UG",
        "outputId": "dbc9475c-8f5d-452c-8e48-29cfb8c858df"
      },
      "source": [
        "def is_longer(L1: list, L2: list) -> bool:\n",
        "    return len(L1) > len(L2)\n",
        "is_longer([1, 2, 3], [4, 5])"
      ],
      "execution_count": 21,
      "outputs": [
        {
          "output_type": "execute_result",
          "data": {
            "text/plain": [
              "True"
            ]
          },
          "metadata": {},
          "execution_count": 21
        }
      ]
    },
    {
      "cell_type": "code",
      "metadata": {
        "colab": {
          "base_uri": "https://localhost:8080/"
        },
        "id": "LHWbLtufg6Ir",
        "outputId": "953d96d1-a915-4fbb-f7cd-8e8f25820c94"
      },
      "source": [
        "is_longer(['abcdef'], ['ab', 'cd', 'ef'])"
      ],
      "execution_count": 22,
      "outputs": [
        {
          "output_type": "execute_result",
          "data": {
            "text/plain": [
              "False"
            ]
          },
          "metadata": {},
          "execution_count": 22
        }
      ]
    },
    {
      "cell_type": "code",
      "metadata": {
        "colab": {
          "base_uri": "https://localhost:8080/"
        },
        "id": "LY33kmuTg-I4",
        "outputId": "da5cce05-4532-4226-bb61-4fa8bf5d8054"
      },
      "source": [
        "units = [['km', 'miles', 'league'], ['kg', 'pound', 'stone']]\n",
        "units[0]"
      ],
      "execution_count": 23,
      "outputs": [
        {
          "output_type": "execute_result",
          "data": {
            "text/plain": [
              "['km', 'miles', 'league']"
            ]
          },
          "metadata": {},
          "execution_count": 23
        }
      ]
    },
    {
      "cell_type": "code",
      "metadata": {
        "colab": {
          "base_uri": "https://localhost:8080/"
        },
        "id": "8i0BXwl8hDrk",
        "outputId": "52f667ee-d7b6-4a8a-931b-edddd0bf950b"
      },
      "source": [
        "units[-1]"
      ],
      "execution_count": 24,
      "outputs": [
        {
          "output_type": "execute_result",
          "data": {
            "text/plain": [
              "['kg', 'pound', 'stone']"
            ]
          },
          "metadata": {},
          "execution_count": 24
        }
      ]
    },
    {
      "cell_type": "code",
      "metadata": {
        "colab": {
          "base_uri": "https://localhost:8080/"
        },
        "id": "-V_f547rhHEs",
        "outputId": "cf26be40-47d3-4274-8909-2660891d09fa"
      },
      "source": [
        "units[1][0:2]"
      ],
      "execution_count": 25,
      "outputs": [
        {
          "output_type": "execute_result",
          "data": {
            "text/plain": [
              "['kg', 'pound']"
            ]
          },
          "metadata": {},
          "execution_count": 25
        }
      ]
    },
    {
      "cell_type": "code",
      "metadata": {
        "colab": {
          "base_uri": "https://localhost:8080/"
        },
        "id": "eb_x0NAzhOyb",
        "outputId": "f7853186-4497-49fd-c2f1-103a58a4e1b5"
      },
      "source": [
        "units[-1]"
      ],
      "execution_count": 26,
      "outputs": [
        {
          "output_type": "execute_result",
          "data": {
            "text/plain": [
              "['kg', 'pound', 'stone']"
            ]
          },
          "metadata": {},
          "execution_count": 26
        }
      ]
    },
    {
      "cell_type": "code",
      "metadata": {
        "colab": {
          "base_uri": "https://localhost:8080/",
          "height": 35
        },
        "id": "VB0dH8WShQam",
        "outputId": "1d61435a-f926-4813-e515-be345ebf45a4"
      },
      "source": [
        "units[-2][-3]"
      ],
      "execution_count": 27,
      "outputs": [
        {
          "output_type": "execute_result",
          "data": {
            "application/vnd.google.colaboratory.intrinsic+json": {
              "type": "string"
            },
            "text/plain": [
              "'km'"
            ]
          },
          "metadata": {},
          "execution_count": 27
        }
      ]
    },
    {
      "cell_type": "code",
      "metadata": {
        "colab": {
          "base_uri": "https://localhost:8080/",
          "height": 35
        },
        "id": "Whdgcu0ghTSv",
        "outputId": "a77ad66c-2483-4bab-d35e-6d3077583a53"
      },
      "source": [
        "units[-1][-3]"
      ],
      "execution_count": 28,
      "outputs": [
        {
          "output_type": "execute_result",
          "data": {
            "application/vnd.google.colaboratory.intrinsic+json": {
              "type": "string"
            },
            "text/plain": [
              "'kg'"
            ]
          },
          "metadata": {},
          "execution_count": 28
        }
      ]
    },
    {
      "cell_type": "code",
      "metadata": {
        "colab": {
          "base_uri": "https://localhost:8080/"
        },
        "id": "PAwp1j2EhWbd",
        "outputId": "2c12732d-7e7e-4f2a-a25c-c43ce197ee3f"
      },
      "source": [
        "units[-2][-2:]"
      ],
      "execution_count": 29,
      "outputs": [
        {
          "output_type": "execute_result",
          "data": {
            "text/plain": [
              "['miles', 'league']"
            ]
          },
          "metadata": {},
          "execution_count": 29
        }
      ]
    },
    {
      "cell_type": "code",
      "metadata": {
        "colab": {
          "base_uri": "https://localhost:8080/"
        },
        "id": "AyhTw_uYiCgU",
        "outputId": "e4776f70-958a-4dc2-9b4d-b0bda9332c0f"
      },
      "source": [
        "units[-1][:-1]"
      ],
      "execution_count": 30,
      "outputs": [
        {
          "output_type": "execute_result",
          "data": {
            "text/plain": [
              "['kg', 'pound']"
            ]
          },
          "metadata": {},
          "execution_count": 30
        }
      ]
    },
    {
      "cell_type": "code",
      "metadata": {
        "colab": {
          "base_uri": "https://localhost:8080/"
        },
        "id": "Rl5Mjgf0iJWA",
        "outputId": "4b636a99-4211-4a41-91e2-3a074bfbea80"
      },
      "source": [
        "celegans_phenotypes = ['Emb','Him', 'Unc', 'Lon', 'Dpy', 'Sma']\n",
        "for phenotype in celegans_phenotypes:\n",
        "  print(phenotype)"
      ],
      "execution_count": 31,
      "outputs": [
        {
          "output_type": "stream",
          "name": "stdout",
          "text": [
            "Emb\n",
            "Him\n",
            "Unc\n",
            "Lon\n",
            "Dpy\n",
            "Sma\n"
          ]
        }
      ]
    },
    {
      "cell_type": "code",
      "metadata": {
        "colab": {
          "base_uri": "https://localhost:8080/"
        },
        "id": "ceP4NOSviOWI",
        "outputId": "cafecf1c-0c1b-4b74-f80c-92348254bac1"
      },
      "source": [
        "half_lives=[87.74, 24110.0, 6537.0, 14.4, 376000.0]\n",
        "for value in half_lives:\n",
        "  print(value, end=' ')"
      ],
      "execution_count": 32,
      "outputs": [
        {
          "output_type": "stream",
          "name": "stdout",
          "text": [
            "87.74 24110.0 6537.0 14.4 376000.0 "
          ]
        }
      ]
    },
    {
      "cell_type": "code",
      "metadata": {
        "colab": {
          "base_uri": "https://localhost:8080/"
        },
        "id": "C1w2S5q3iTQt",
        "outputId": "84e2ef71-5210-4eea-9483-b5a70e10a7de"
      },
      "source": [
        "whales = [5, 4, 7, 3, 2, 3, 2, 6, 4, 2, 1, 7, 1, 3]\n",
        "more_whales = []\n",
        "for count in whales:\n",
        "  more_whales.append(count + 1)\n",
        "more_whales"
      ],
      "execution_count": 33,
      "outputs": [
        {
          "output_type": "execute_result",
          "data": {
            "text/plain": [
              "[6, 5, 8, 4, 3, 4, 3, 7, 5, 3, 2, 8, 2, 4]"
            ]
          },
          "metadata": {},
          "execution_count": 33
        }
      ]
    },
    {
      "cell_type": "code",
      "metadata": {
        "id": "pG5iY2-viYEs"
      },
      "source": [
        "alkaline_earth_metals = [[4, 9.012], [12, 24.305],\n",
        "[20, 40.078], [38, 87.62],\n",
        "[56, 137.327], [88, 226]]"
      ],
      "execution_count": 34,
      "outputs": []
    },
    {
      "cell_type": "code",
      "metadata": {
        "colab": {
          "base_uri": "https://localhost:8080/"
        },
        "id": "j2yJr_loieWw",
        "outputId": "6e31d78d-c918-46ac-fef3-daed8aca6b3f"
      },
      "source": [
        "for inner_list in alkaline_earth_metals:\n",
        "  print(inner_list[0])\n",
        "  print(inner_list[1])"
      ],
      "execution_count": 35,
      "outputs": [
        {
          "output_type": "stream",
          "name": "stdout",
          "text": [
            "4\n",
            "9.012\n",
            "12\n",
            "24.305\n",
            "20\n",
            "40.078\n",
            "38\n",
            "87.62\n",
            "56\n",
            "137.327\n",
            "88\n",
            "226\n"
          ]
        }
      ]
    },
    {
      "cell_type": "code",
      "metadata": {
        "colab": {
          "base_uri": "https://localhost:8080/"
        },
        "id": "Js9z7N6LijOL",
        "outputId": "fcfe557e-c328-4889-c1de-5fe283c3b267"
      },
      "source": [
        "number_and_weight = []\n",
        "for inner_list in alkaline_earth_metals:\n",
        "  number_and_weight.append(inner_list[0])\n",
        "  number_and_weight.append(inner_list[1])\n",
        "number_and_weight"
      ],
      "execution_count": 36,
      "outputs": [
        {
          "output_type": "execute_result",
          "data": {
            "text/plain": [
              "[4, 9.012, 12, 24.305, 20, 40.078, 38, 87.62, 56, 137.327, 88, 226]"
            ]
          },
          "metadata": {},
          "execution_count": 36
        }
      ]
    },
    {
      "cell_type": "code",
      "metadata": {
        "colab": {
          "base_uri": "https://localhost:8080/"
        },
        "id": "5yhJXbUki7hp",
        "outputId": "2415d7e1-afd9-4f4d-d77d-e62d1487e617"
      },
      "source": [
        "def mystery_function(values):\n",
        "  result = []\n",
        "  for sublist in values:\n",
        "    result.append([sublist[0]])\n",
        "    for i in sublist[1:]:\n",
        "      result[-1].insert(0, i)\n",
        "  return result\n",
        "mystery_function([[1,2,3],[4,5,6]])"
      ],
      "execution_count": 37,
      "outputs": [
        {
          "output_type": "execute_result",
          "data": {
            "text/plain": [
              "[[3, 2, 1], [6, 5, 4]]"
            ]
          },
          "metadata": {},
          "execution_count": 37
        }
      ]
    },
    {
      "cell_type": "code",
      "metadata": {
        "colab": {
          "base_uri": "https://localhost:8080/"
        },
        "id": "lnoZy5OMi_9T",
        "outputId": "a8942ae9-5a47-4d06-9d1a-b330017f8347"
      },
      "source": [
        "country_populations = [1295, 23, 7, 3, 47, 21]\n",
        "total = 0\n",
        "for population in country_populations:\n",
        "  total += population\n",
        "total"
      ],
      "execution_count": 38,
      "outputs": [
        {
          "output_type": "execute_result",
          "data": {
            "text/plain": [
              "1396"
            ]
          },
          "metadata": {},
          "execution_count": 38
        }
      ]
    },
    {
      "cell_type": "code",
      "metadata": {
        "colab": {
          "base_uri": "https://localhost:8080/"
        },
        "id": "PIeQEbskkQ_r",
        "outputId": "cfaceeb5-fa5b-4d53-8532-eb1db4ff6c95"
      },
      "source": [
        "import numpy as np\n",
        "rat_1=np.random.randint(10,size=10)\n",
        "rat_2=np.random.randint(10,size=10)\n",
        "print(rat_1)\n",
        "print(rat_2)\n",
        "if rat_1[0] > rat_2[0]:\n",
        "  print(\"Rat 1 weighed more than rat 2 on day 1.\")\n",
        "else:\n",
        "  print(\"Rat 1 weighed less than rat 2 on day 1.\")"
      ],
      "execution_count": 39,
      "outputs": [
        {
          "output_type": "stream",
          "name": "stdout",
          "text": [
            "[6 3 4 9 2 7 7 8 9 3]\n",
            "[4 9 6 3 7 7 1 6 8 7]\n",
            "Rat 1 weighed more than rat 2 on day 1.\n"
          ]
        }
      ]
    }
  ]
}